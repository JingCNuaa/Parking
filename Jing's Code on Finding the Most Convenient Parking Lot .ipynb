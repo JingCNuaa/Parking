{
 "cells": [
  {
   "cell_type": "code",
   "execution_count": 1,
   "metadata": {},
   "outputs": [],
   "source": [
    "import numpy as np\n",
    "import pandas as pd\n",
    "import matplotlib.pyplot as plt\n",
    "from collections import defaultdict\n",
    "import haversine as hs"
   ]
  },
  {
   "cell_type": "code",
   "execution_count": 2,
   "metadata": {},
   "outputs": [],
   "source": [
    "edges =[['KA', 'DK', 0.1], ['LA', 'NI', 0.1], ['ME', 'ST', 0.2], ['177', 'BV', 0.3], ['216', 'BV', 0.4],\n",
    "        ['BPG', '216', 0.6], ['WVB', 'WVG', 0.2], ['WVH', 'WVG', 0.15], ['WVF', 'WVG', 0.15],\n",
    "        ['WI', 'WVG', 0.15], ['WVF', 'WVB', 0.1], ['AF', 'WVF', 0.1], ['WVE', 'WPG', 0.05], ['WPG', 'BK', 0.05],\n",
    "        ['AF', 'BK', 0.3], ['WI', 'AF', 0.2], ['WI', 'CG', 0.4], ['HO', 'ME', 0.4], ['LA', 'HO', 0.1],\n",
    "        ['KA', 'LA', 0.1], ['CG', 'KA', 0.1], ['ST', 'CG', 0.1], ['AS', 'RY', 0.6], ['AS', 'RPG', 0.4],\n",
    "        ['CPG', 'RB', 0.4], ['ISEC', 'SL', 0.4], ['DG', 'EL', 0.2], ['EV', 'CN', 0.2], ['HA', 'RI', 0.2],\n",
    "        ['MU', 'HS', 0.2], ['HT', 'CN', 0.1], ['MU', 'RB', 0.2], ['CSC', 'EL', 0.1],  ['HA', 'SL', 0.4],\n",
    "        ['SN', 'CH', 0.2], ['RB', 'HT', 0.3], ['CSC', 'RB', 0.3], ['SL', 'CSC', 0.3], ['SN', 'SL', 0.3],\n",
    "        ['SN', 'DA', 0.1], ['MA', 'GPG', 0.5], ['CN', 'GPG', 0.2], ['MU', 'CN', 0.2], ['EL', 'MU', 0.2],\n",
    "        ['HA', 'EL', 0.2], ['CH', 'HA', 0.2], ['FR', 'CH', 0.2], ['106-122', '337', 0.1], ['LH', 'FC', 0.1],\n",
    "        ['106-122', 'LH', 0.4], ['140', 'SW', 0.4], ['CA', 'SW', 0.4], ['KH', 'MH', 0.1], ['CU', 'KH', 0.1],\n",
    "        ['CA', 'CU', 0.1], ['KDY', 'AC', 0.1], ['SM', 'KDY', 0.2], ['LF', 'SM', 0.3], ['140', 'LF', 0.4],\n",
    "        ['SE', '142-148', 0.4], ['SW', 'SE', 0.2], ['WH', 'SW', 0.4], ['407', 'WH', 0.2], ['WVB', 'WVA', 0.3],\n",
    "        ['WVC', 'WVB', 0.3], ['WVC', 'WVA', 0.3], ['WVE', 'WVC', 0.3], ['RY', 'WVE', 0.3], ['DK', 'FR', 0.2],\n",
    "        ['DK', 'CB', 0.4], ['NI', 'LT', 0.1], ['SH', 'EC', 0.5], ['DK', 'KN', 0.2], ['NI', 'DK', 0.2],\n",
    "        ['SH', 'NI', 0.2], ['FR', 'CB', 0.3], ['LT', 'FR', 0.1], ['DA', 'LT', 0.1],['EC', 'DA', 0.2],\n",
    "        ['EC', 'AS', 0.2], ['768', 'CV', 0.1], ['DCA', 'DCB', 0.1], ['CP', 'DCA', 0.1], ['LV', 'CP', 0.1],\n",
    "        ['768', 'LV', 0.1], ['768', '780', 0.2], ['RP', '780', 0.5], ['INVO', 'RP', 0.2], ['INV', 'INVO', 0.1],\n",
    "        ['SB', 'CP', 0.1], ['CPG', 'LV', 0.1], ['ISEC', '768', 0.1], ['RPG', 'RP', 0.1], ['CPG', 'SB', 0.1],\n",
    "        ['ISEC', 'CPG', 0.2], ['RPG', 'ISEC', 0.6], ['HS', '319', 0.4], ['CB', 'MC', 0.4], ['RI', 'SP', 0.4],\n",
    "        ['EV', '236', 20], ['HS', 'EV', 0.2], ['HS', 'DG', 0.1], ['RI', 'DG', 0.3], ['RI', 'CB', 0.3],\n",
    "        ['KN', 'CB', 0.3], ['KN', 'CG', 0.1], ['ST', 'CG', 0.1], ['ST', 'WVH', 0.3], ['450', 'WVH', 0.1],\n",
    "        ['450', 'BU', 0.05], ['RU', 'BU', 0.05], ['BPG', '177', 0.6], ['BPG', '271', 0.6],['319', '271', 0.4],\n",
    "        ['337', '319', 0.3], ['337', 'SP', 0.2], ['MC', 'SP', 0.2],['407', 'WH', 0.1], ['WH', 'MC', 0.2]]\n",
    "\n"
   ]
  },
  {
   "cell_type": "code",
   "execution_count": 3,
   "metadata": {},
   "outputs": [],
   "source": [
    "# Create list for buildings on the same street\n",
    "huntington_ave_side_1 = [\"RU\", \"BU\", \"450\",\"WVH\", \"ST\", \"CG\", \"KN\", \"CB\",\"RI\",\"DG\",\"HS\",\"EV\",\"236\"]\n",
    "huntington_ave_side_2 = [\"407\",\"WH\",\"MC\",\"SP\",\"337\",\"319\",\"271\",\"BPG\",\"177\"]\n",
    "forsyth_st_side_1 = [\"EC\",\"AS\",\"DA\",\"LT\",\"FR\",\"CB\"]\n",
    "forsyth_st_side_2 = [\"SH\",\"NI\",\"DK\",\"KN\"]\n",
    "ruggle_st = [\"RY\",\"WVE\",\"WVC\",\"WVA\"]\n",
    "comlumbus_st_side_1 = [\"INV\",\"INVO\",\"RP\",\"780\",\"768\",\"LV\",\"CP\",\"DCA\",\"DCB\"]\n",
    "comlumbus_st_side_2 = [\"RPG\",\"ISEC\",\"SB\",\"CPG\"]\n",
    "hemenway_st_back = [\"CA\",\"CU\",\"KH\",\"MH\"]\n",
    "hemenway_st_side_1 = [\"140\",\"LF\",\"SM\",\"KDY\",\"AC\"]\n",
    "hemenway_st_side_2 = [\"407\",\"WH\",\"SW\",\"SE\",\"142-148\"]"
   ]
  },
  {
   "cell_type": "code",
   "execution_count": 4,
   "metadata": {},
   "outputs": [],
   "source": [
    "# Find index of building based on the location of building name in the list\n",
    "def find_location(stops,stop):\n",
    "    for i in range(len(stops)):\n",
    "        if stops[i]== stop:\n",
    "            return i"
   ]
  },
  {
   "cell_type": "code",
   "execution_count": 5,
   "metadata": {},
   "outputs": [],
   "source": [
    "def create_edge_for_sites_on_same_street(street_name,edges):\n",
    "    # create direct edges for all the buildings that are on the same street\n",
    "    n = len(street_name)\n",
    "    distance = [[float(\"Inf\") for _ in range (n)] for _ in range(n)]\n",
    "    for i in range(n):\n",
    "        distance[i][i] = 0\n",
    "    for u, v, w in edges:\n",
    "        if (u in street_name) and (v in street_name):\n",
    "            u_index = find_location(street_name,u)\n",
    "            v_index = find_location(street_name,v)\n",
    "            distance[u_index][v_index] = w\n",
    "            distance[v_index][u_index] = w\n",
    "    # Apply Floyd Warshall algorithm to find the sum of shortest path between any two sites\n",
    "    for k in range(n):\n",
    "        for i in range(n):\n",
    "            for j in range(i,n):\n",
    "                distance[i][j] = min(distance[i][j],distance[i][k] + distance[k][j]) \n",
    "                distance[j][i] = min(distance[j][i],distance[j][k] + distance[k][i]) \n",
    "    street_edges = []\n",
    "    for i in range(n):\n",
    "        for j in range(i+1,n):\n",
    "            street_edges.append([street_name[i],street_name[j],distance[i][j]])\n",
    "    return street_edges"
   ]
  },
  {
   "cell_type": "code",
   "execution_count": 6,
   "metadata": {},
   "outputs": [],
   "source": [
    "def add_edges_for_street(street_name, edges):\n",
    "    # build a complete graph for all building on the same street\n",
    "    # Add these edges to the full adjacency list of graph G\n",
    "    street_edges = create_edge_for_sites_on_same_street(street_name,edges)\n",
    "    for i in range(len(street_edges)):\n",
    "        edges.append(street_edges[i])\n",
    "    return "
   ]
  },
  {
   "cell_type": "code",
   "execution_count": 7,
   "metadata": {},
   "outputs": [],
   "source": [
    "add_edges_for_street(huntington_ave_side_1, edges)\n",
    "add_edges_for_street(huntington_ave_side_2, edges)\n",
    "add_edges_for_street(forsyth_st_side_1, edges)\n",
    "add_edges_for_street(forsyth_st_side_2, edges)\n",
    "add_edges_for_street(comlumbus_st_side_1, edges)\n",
    "add_edges_for_street(comlumbus_st_side_2, edges)\n",
    "add_edges_for_street(hemenway_st_back, edges)\n",
    "add_edges_for_street(hemenway_st_side_1, edges)\n",
    "add_edges_for_street(hemenway_st_side_2, edges)\n",
    "add_edges_for_street(ruggle_st, edges)"
   ]
  },
  {
   "cell_type": "code",
   "execution_count": 8,
   "metadata": {},
   "outputs": [],
   "source": [
    "graph = defaultdict(list)"
   ]
  },
  {
   "cell_type": "code",
   "execution_count": 9,
   "metadata": {},
   "outputs": [],
   "source": [
    "# Convert a list of edges to a adjancy list representation of graph\n",
    "for u,v,e in edges: \n",
    "    graph[u].append([v,e])\n",
    "    graph[v].append([u,e])"
   ]
  },
  {
   "cell_type": "code",
   "execution_count": 10,
   "metadata": {},
   "outputs": [],
   "source": [
    "def distance_f_src_t_dst_w_t_edges(graph, edges, src, dst, t):\n",
    "    # Apply bellman ford algorithm to find out if dst can by reached from src using at most t edges\n",
    "    stops = sorted(list(graph.keys()))\n",
    "    n = len(stops)\n",
    "    src_index = find_location(stops,src)\n",
    "    \n",
    "    distance = [[float(\"Inf\") for _ in range(n)] for _ in range(t+2)]\n",
    "    \n",
    "    # set distance to src to 0 and distance from src to other nodes to infinity\n",
    "    for i in range(t+2):\n",
    "        distance[i][src_index] = 0\n",
    "        \n",
    "    # Find the distance from src to any node with at most i edges\n",
    "    #,which is same as number of turns people would like to make while walking.  \n",
    "    for i in range(t+1):\n",
    "        for u,v,w in edges:\n",
    "            u_index = find_location(stops,u)\n",
    "            v_index = find_location(stops,v)\n",
    "            if distance[i][u_index] != float(\"Inf\"):\n",
    "                distance[i+1][v_index] = min(distance[i+1][v_index],distance[i][u_index] + w) \n",
    "            if distance[i][v_index] != float(\"Inf\"):\n",
    "                distance[i+1][u_index] = min(distance[i+1][u_index],distance[i][v_index] + w) \n",
    "    \n",
    "    # find the index of dst\n",
    "    dst_index = find_location(stops,dst)\n",
    "    \n",
    "    # if distance to destination with at most t edges is not infinity, then return distance\n",
    "    # otherwise return infinity\n",
    "    \n",
    "    if distance[t+1][dst_index] != float(\"Inf\"):\n",
    "        return distance[t+1][dst_index]\n",
    "    else: \n",
    "        return float(\"Inf\")"
   ]
  },
  {
   "cell_type": "code",
   "execution_count": 11,
   "metadata": {},
   "outputs": [],
   "source": [
    "parking_spots ={\n",
    "    'CPG': (42.33818,-71.086397),\n",
    "    'GPG': ( 42.340394,-71.085729 ),\n",
    "    'RPG': (42.336297,-71.088421 ),\n",
    "    'BPG': (42.343277,-71.085169 ),\n",
    "    'WPG': (42.336748,-71.091634 ),\n",
    "    'FC' : (42.342056, -71.08786 ),\n",
    "    'MA' : (42.341267,-71.084451 ),\n",
    "    '142-148' : (42.342071, -71.090227 ),\n",
    "    '140':  ( 42.340789,-71.091759 )\n",
    "}"
   ]
  },
  {
   "cell_type": "code",
   "execution_count": 12,
   "metadata": {},
   "outputs": [],
   "source": [
    "def find_driving_distance(parking_spots,current_location):\n",
    "    # find driving distance from current location to all parking spot\n",
    "    # return a dictionary of driving distance\n",
    "    # key = name of parking spot\n",
    "    # value = Euclidean distance from parking spot to current location in miles based on lat and long\n",
    "    driving_distance = defaultdict(int)\n",
    "    keys = parking_spots.keys()\n",
    "    for k in keys:\n",
    "        km = hs.haversine(driving_distance[k],current_location)\n",
    "        mile = km*0.621371\n",
    "        driving_distance[k]= mile\n",
    "        # returns distance in km\n",
    "    return driving_distance"
   ]
  },
  {
   "cell_type": "code",
   "execution_count": 13,
   "metadata": {},
   "outputs": [],
   "source": [
    "def find_walking_distance(graph, edges, dst, parking_spots,number_of_turns):\n",
    "    walking_distance = defaultdict(int)\n",
    "    keys = parking_spots.keys()\n",
    "    for k in keys:\n",
    "        d = distance_f_src_t_dst_w_t_edges(graph, edges, k, dst, number_of_turns)\n",
    "        walking_distance[k] = d\n",
    "    return walking_distance"
   ]
  },
  {
   "cell_type": "code",
   "execution_count": 14,
   "metadata": {},
   "outputs": [],
   "source": [
    "def find_most_convenient_parking_location(graph, edges, dst, parking_spots,number_of_turns):\n",
    "    # return the parkinglocation with the minimal walking distance\n",
    "    walking_distance = defaultdict(int)\n",
    "    keys = parking_spots.keys()\n",
    "    best_location = \"None\"\n",
    "    min_distance = float(\"Inf\")\n",
    "    \n",
    "    for k in keys:\n",
    "        d = distance_f_src_t_dst_w_t_edges(graph, edges, k, dst, number_of_turns)\n",
    "        walking_distance[k] = d\n",
    "        # if better parking location is found\n",
    "        # update min_distance and best_location\n",
    "        if d < min_distance:\n",
    "            min_distance = d\n",
    "            best_location = k\n",
    "    return best_location"
   ]
  },
  {
   "cell_type": "code",
   "execution_count": 15,
   "metadata": {},
   "outputs": [
    {
     "data": {
      "text/plain": [
       "'CPG'"
      ]
     },
     "execution_count": 15,
     "metadata": {},
     "output_type": "execute_result"
    }
   ],
   "source": [
    "find_most_convenient_parking_location(graph, edges, \"SL\", parking_spots,4)"
   ]
  },
  {
   "cell_type": "code",
   "execution_count": null,
   "metadata": {},
   "outputs": [],
   "source": []
  }
 ],
 "metadata": {
  "kernelspec": {
   "display_name": "Python 3",
   "language": "python",
   "name": "python3"
  },
  "language_info": {
   "codemirror_mode": {
    "name": "ipython",
    "version": 3
   },
   "file_extension": ".py",
   "mimetype": "text/x-python",
   "name": "python",
   "nbconvert_exporter": "python",
   "pygments_lexer": "ipython3",
   "version": "3.8.5"
  }
 },
 "nbformat": 4,
 "nbformat_minor": 4
}
